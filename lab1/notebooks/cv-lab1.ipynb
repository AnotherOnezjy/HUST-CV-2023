{
 "cells": [
  {
   "cell_type": "code",
   "execution_count": null,
   "metadata": {
    "collapsed": true
   },
   "outputs": [],
   "source": [
    "# 导入所需的库\n",
    "import torch\n",
    "import torch.nn as nn\n",
    "import random\n",
    "import numpy as np\n",
    "import matplotlib.pyplot as plt"
   ]
  },
  {
   "cell_type": "code",
   "execution_count": null,
   "outputs": [],
   "source": [
    "# 设置随机种子，保证结果的可重复性\n",
    "SEED_NUM = 1037\n",
    "random.seed(SEED_NUM)\n",
    "np.random.seed(SEED_NUM)\n",
    "torch.manual_seed(SEED_NUM)"
   ],
   "metadata": {
    "collapsed": false
   }
  },
  {
   "cell_type": "code",
   "execution_count": null,
   "outputs": [],
   "source": [
    "# 配置信息\n",
    "dtype = torch.float32\n",
    "learning_rate = 0.1\n",
    "print_every_epoch = 100\n",
    "SHOW_PICTURE = False\n",
    "USE_GPU = True\n",
    "if USE_GPU and torch.cuda.is_available():\n",
    "    device = torch.device('cuda')\n",
    "else:\n",
    "    device = torch.device('cpu')"
   ],
   "metadata": {
    "collapsed": false
   }
  },
  {
   "cell_type": "markdown",
   "source": [
    "在 [−10, 10] × [−10, 10] 的 2D 平面内，以均匀分布随机生成 5000 个数据点(x, y)"
   ],
   "metadata": {
    "collapsed": false
   }
  },
  {
   "cell_type": "code",
   "execution_count": null,
   "outputs": [],
   "source": [
    "# 生成数据\n",
    "num_points = 5000  # 数据点个数\n",
    "x = np.random.uniform(low=-10, high=10, size=num_points)\n",
    "y = np.random.uniform(low=-10, high=10, size=num_points)\n",
    "z = x ** 2 + x * y + y ** 2"
   ],
   "metadata": {
    "collapsed": false
   }
  },
  {
   "cell_type": "code",
   "execution_count": null,
   "outputs": [],
   "source": [
    "# 作图\n",
    "if SHOW_PICTURE:\n",
    "    fig = plt.figure()\n",
    "    ax3 = plt.axes(projection='3d')\n",
    "    X, Y = np.meshgrid(x, y)\n",
    "    Z = X ** 2 + X * Y + Y ** 2\n",
    "    ax3.plot_surface(X, Y, Z, cmap='rainbow')\n",
    "    plt.show()"
   ],
   "metadata": {
    "collapsed": false
   }
  },
  {
   "cell_type": "code",
   "execution_count": null,
   "outputs": [],
   "source": [
    "# 将数据转换为张量\n",
    "x = torch.tensor(x, dtype=dtype).unsqueeze(1)\n",
    "y = torch.tensor(y, dtype=dtype).unsqueeze(1)\n",
    "z = torch.tensor(z, dtype=dtype).unsqueeze(1)"
   ],
   "metadata": {
    "collapsed": false
   }
  },
  {
   "cell_type": "code",
   "execution_count": null,
   "outputs": [],
   "source": [
    "# 划分训练集和数据集\n",
    "num_train = int(num_points * 0.9)\n",
    "num_test = num_points - num_train\n",
    "indices = np.random.permutation(num_points)\n",
    "train_indices, test_indices = indices[:num_train], indices[num_train:]\n",
    "x_train, y_train, z_train = x[train_indices], y[train_indices], z[train_indices]\n",
    "x_test, y_test, z_test = x[test_indices], y[test_indices], z[test_indices]"
   ],
   "metadata": {
    "collapsed": false
   }
  },
  {
   "cell_type": "markdown",
   "source": [
    "定义一个至少包含一个隐藏层的前馈神经网络"
   ],
   "metadata": {
    "collapsed": false
   }
  },
  {
   "cell_type": "code",
   "execution_count": null,
   "outputs": [],
   "source": [
    "class MyNet(nn.Module):\n",
    "    def __init__(self):\n",
    "        super(MyNet, self).__init__()\n",
    "        self.conv = nn.Sequential(\n",
    "            nn.Linear(2, 100),\n",
    "            nn.ReLU(),\n",
    "            nn.Linear(100, 1)\n",
    "        )\n",
    "\n",
    "    def forward(self, x_in, y_in):\n",
    "        t = torch.cat((x_in, y_in), dim=1)\n",
    "        out = self.conv(t)\n",
    "        return out\n"
   ],
   "metadata": {
    "collapsed": false
   }
  },
  {
   "cell_type": "code",
   "execution_count": null,
   "outputs": [],
   "source": [
    "# 创建模型实例和优化器\n",
    "model = MyNet()\n",
    "# model = model.cuda()"
   ],
   "metadata": {
    "collapsed": false
   }
  },
  {
   "cell_type": "code",
   "execution_count": null,
   "outputs": [],
   "source": [
    "# * 损失函数设置\n",
    "criterion = nn.MSELoss()\n",
    "# criterion = nn.SmoothL1Loss()"
   ],
   "metadata": {
    "collapsed": false
   }
  },
  {
   "cell_type": "code",
   "execution_count": null,
   "outputs": [],
   "source": [
    "# * 优化器设置\n",
    "optimizer = torch.optim.Adam(model.parameters(), lr=learning_rate)"
   ],
   "metadata": {
    "collapsed": false
   }
  },
  {
   "cell_type": "code",
   "execution_count": null,
   "outputs": [],
   "source": [
    "# 训练网络\n",
    "num_epoches = 1000\n",
    "\n",
    "\n",
    "def train_net(epoches=num_epoches):\n",
    "    for epoch in range(num_epoches):\n",
    "        x_train.to(device=device, dtype=dtype)\n",
    "        y_train.to(device=device, dtype=dtype)\n",
    "        outputs = model(x_train, y_train)\n",
    "        loss = criterion(outputs, z_train)\n",
    "        optimizer.zero_grad()\n",
    "        loss.backward()\n",
    "        optimizer.step()\n",
    "\n",
    "        if epoch % print_every_epoch == 0:\n",
    "            print(f\"Epoch: {epoch}\\tloss: {loss}\")\n",
    "\n",
    "\n",
    "# 测试网络\n",
    "def check_accuracy():\n",
    "    with torch.no_grad():\n",
    "        pred = model(x_test, y_test)\n",
    "        test_loss = criterion(pred, z_test)\n",
    "    print(f\"Test loss: {test_loss.item():.4f}\")\n",
    "    return pred"
   ],
   "metadata": {
    "collapsed": false
   }
  },
  {
   "cell_type": "code",
   "execution_count": null,
   "outputs": [],
   "source": [
    "train_net()\n",
    "z_pred = check_accuracy()"
   ],
   "metadata": {
    "collapsed": false
   }
  },
  {
   "cell_type": "code",
   "execution_count": null,
   "outputs": [],
   "source": [
    "# 绘制预测结果与真实结果之间的散点图\n",
    "fig, ax = plt.subplots()\n",
    "ax.scatter(z_test.numpy(), z_pred.numpy())\n",
    "ax.plot([-50, 300], [-50, 300], \"r--\")\n",
    "ax.set_xlabel(\"True values\")\n",
    "ax.set_ylabel(\"Predictions\")\n",
    "plt.show()"
   ],
   "metadata": {
    "collapsed": false
   }
  }
 ],
 "metadata": {
  "kernelspec": {
   "display_name": "Python 3",
   "language": "python",
   "name": "python3"
  },
  "language_info": {
   "codemirror_mode": {
    "name": "ipython",
    "version": 2
   },
   "file_extension": ".py",
   "mimetype": "text/x-python",
   "name": "python",
   "nbconvert_exporter": "python",
   "pygments_lexer": "ipython2",
   "version": "2.7.6"
  }
 },
 "nbformat": 4,
 "nbformat_minor": 0
}
